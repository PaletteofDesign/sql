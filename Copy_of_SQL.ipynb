{
  "nbformat": 4,
  "nbformat_minor": 0,
  "metadata": {
    "anaconda-cloud": {},
    "celltoolbar": "Slideshow",
    "kernelspec": {
      "display_name": "Python 3",
      "language": "python",
      "name": "python3"
    },
    "language_info": {
      "codemirror_mode": {
        "name": "ipython",
        "version": 3
      },
      "file_extension": ".py",
      "mimetype": "text/x-python",
      "name": "python",
      "nbconvert_exporter": "python",
      "pygments_lexer": "ipython3",
      "version": "3.7.6"
    },
    "colab": {
      "name": "Copy of SQL.ipynb",
      "provenance": [],
      "collapsed_sections": [],
      "include_colab_link": true
    }
  },
  "cells": [
    {
      "cell_type": "markdown",
      "metadata": {
        "id": "view-in-github",
        "colab_type": "text"
      },
      "source": [
        "<a href=\"https://colab.research.google.com/github/PaletteofDesign/sql/blob/main/Copy_of_SQL.ipynb\" target=\"_parent\"><img src=\"https://colab.research.google.com/assets/colab-badge.svg\" alt=\"Open In Colab\"/></a>"
      ]
    },
    {
      "cell_type": "markdown",
      "metadata": {
        "id": "38idX8Wk_xBV"
      },
      "source": [
        "<center>\n",
        "<img src=\"https://course_report_production.s3.amazonaws.com/rich/rich_files/rich_files/2470/s300/cd-logo-blue-600x600.png\" alt=\"Coding Dojo Logo\" class=\"center\" height=\"50\">\n",
        "\n",
        "# SQL Exercises\n",
        "\n",
        "*Make a copy of this notebook to edit!*\n",
        "```\n",
        "File > Save a copy in Drive\n",
        "```\n",
        "    \n",
        "</center>\n",
        "\n",
        "[SQLAlchemy](https://www.sqlalchemy.org/) is a wrapper for Python that allows us to write SQL queries in Python. We will use this to practice our SQL basics in Python.\n",
        "\n",
        "First, we need to connect to a database. We will just read a table into SQL for this step. We will be creating a [SQLite](https://sqlite.org/index.html) database and loading two tables ([table 1](https://drive.google.com/file/d/18MgOmIHHafoubgp2d_7GM6GWroxb0vPe/view?usp=sharing)  and [table 2](https://drive.google.com/file/d/1lqW6qfPXpDWsQ6yMYpZPX7brVif-v_Ra/view?usp=sharing)) into that database.\n",
        "\n",
        "The data (from [this source](https://data.world/sikkim/school)) describes details of various schools."
      ]
    },
    {
      "cell_type": "code",
      "metadata": {
        "id": "4whVGi2Wud1w"
      },
      "source": [
        "# imports\n",
        "import pandas as pd\n",
        "from sqlalchemy import create_engine"
      ],
      "execution_count": 1,
      "outputs": []
    },
    {
      "cell_type": "code",
      "metadata": {
        "id": "9p14osBhUD37",
        "colab": {
          "base_uri": "https://localhost:8080/"
        },
        "outputId": "4ef0b509-4585-4d67-8669-bbbd81c0534a"
      },
      "source": [
        "# mount data\n",
        "from google.colab import drive\n",
        "drive.mount('/content/drive')"
      ],
      "execution_count": 2,
      "outputs": [
        {
          "output_type": "stream",
          "name": "stdout",
          "text": [
            "Mounted at /content/drive\n"
          ]
        }
      ]
    },
    {
      "cell_type": "code",
      "metadata": {
        "id": "vttB7TWAUF9B",
        "colab": {
          "base_uri": "https://localhost:8080/",
          "height": 323
        },
        "outputId": "3b627461-b8ad-4242-d437-a6a0776dcc64"
      },
      "source": [
        "# load table 1\n",
        "school = pd.read_csv('/content/School Details.csv')\n",
        "school.head(2)"
      ],
      "execution_count": 4,
      "outputs": [
        {
          "output_type": "execute_result",
          "data": {
            "text/html": [
              "<div>\n",
              "<style scoped>\n",
              "    .dataframe tbody tr th:only-of-type {\n",
              "        vertical-align: middle;\n",
              "    }\n",
              "\n",
              "    .dataframe tbody tr th {\n",
              "        vertical-align: top;\n",
              "    }\n",
              "\n",
              "    .dataframe thead th {\n",
              "        text-align: right;\n",
              "    }\n",
              "</style>\n",
              "<table border=\"1\" class=\"dataframe\">\n",
              "  <thead>\n",
              "    <tr style=\"text-align: right;\">\n",
              "      <th></th>\n",
              "      <th>DistrictName</th>\n",
              "      <th>EstablishmentCode</th>\n",
              "      <th>EstablishmentName</th>\n",
              "      <th>BRCName</th>\n",
              "      <th>CRCName</th>\n",
              "      <th>SchoolLevel</th>\n",
              "      <th>ManagementName</th>\n",
              "      <th>LocalityHabitation</th>\n",
              "      <th>SubdivisionName</th>\n",
              "      <th>ConstituencyName</th>\n",
              "      <th>RevenueBlockName</th>\n",
              "      <th>CivicBodyName</th>\n",
              "      <th>WardName</th>\n",
              "      <th>PostOfficeName</th>\n",
              "      <th>PhoneNo</th>\n",
              "      <th>FaxNo</th>\n",
              "      <th>EmailID</th>\n",
              "      <th>Website</th>\n",
              "      <th>LocatedInRuralOrUrban</th>\n",
              "      <th>DiseCode</th>\n",
              "      <th>EstablishedDate</th>\n",
              "      <th>DistrictHQDistance (in Km)</th>\n",
              "      <th>CRCDistance (in Km)</th>\n",
              "      <th>BACDistance (in Km)</th>\n",
              "      <th>IsRecognized</th>\n",
              "      <th>RecognizedBy</th>\n",
              "      <th>ContactPersonName</th>\n",
              "      <th>LowestClass</th>\n",
              "      <th>HighestClass</th>\n",
              "      <th>BoardName</th>\n",
              "    </tr>\n",
              "  </thead>\n",
              "  <tbody>\n",
              "    <tr>\n",
              "      <th>0</th>\n",
              "      <td>East</td>\n",
              "      <td>S0169</td>\n",
              "      <td>BUDANG GOVERNMENT PRIMARY SCHOOL (E)</td>\n",
              "      <td>Duga Brc</td>\n",
              "      <td>Central Pendam Government Senior Secondary School</td>\n",
              "      <td>PS</td>\n",
              "      <td>State Govt.</td>\n",
              "      <td>BUDANG</td>\n",
              "      <td>Gangtok</td>\n",
              "      <td>Rhenock</td>\n",
              "      <td>Central Pendam</td>\n",
              "      <td>Central Pendam</td>\n",
              "      <td>Sajong</td>\n",
              "      <td>Upper Pendam</td>\n",
              "      <td>NaN</td>\n",
              "      <td>NaN</td>\n",
              "      <td>NaN</td>\n",
              "      <td>NaN</td>\n",
              "      <td>Urban Area</td>\n",
              "      <td>NaN</td>\n",
              "      <td>28126</td>\n",
              "      <td>58.0</td>\n",
              "      <td>8.0</td>\n",
              "      <td>16.0</td>\n",
              "      <td>Recognized</td>\n",
              "      <td>HRDD</td>\n",
              "      <td>NaN</td>\n",
              "      <td>Class 1</td>\n",
              "      <td>Class 5</td>\n",
              "      <td>NaN</td>\n",
              "    </tr>\n",
              "    <tr>\n",
              "      <th>1</th>\n",
              "      <td>East</td>\n",
              "      <td>S0099</td>\n",
              "      <td>CENTRAL PENDAM GOVERNMENT SENIOR SECONDARY SCHOOL</td>\n",
              "      <td>Duga Brc</td>\n",
              "      <td>Central Pendam Government Senior Secondary School</td>\n",
              "      <td>SSS</td>\n",
              "      <td>State Govt.</td>\n",
              "      <td>CENTRAL PENDAM</td>\n",
              "      <td>Gangtok</td>\n",
              "      <td>West Pandam</td>\n",
              "      <td>Central Pendam</td>\n",
              "      <td>Central Pendam</td>\n",
              "      <td>Karmithang</td>\n",
              "      <td>Upper Pendam</td>\n",
              "      <td>3592263812</td>\n",
              "      <td>NaN</td>\n",
              "      <td>NaN</td>\n",
              "      <td>NaN</td>\n",
              "      <td>Urban Area</td>\n",
              "      <td>800401</td>\n",
              "      <td>15342</td>\n",
              "      <td>50.0</td>\n",
              "      <td>0.0</td>\n",
              "      <td>6.0</td>\n",
              "      <td>Recognized</td>\n",
              "      <td>HRDD</td>\n",
              "      <td>NaN</td>\n",
              "      <td>Class 1</td>\n",
              "      <td>Class 12</td>\n",
              "      <td>C.B.S.E.</td>\n",
              "    </tr>\n",
              "  </tbody>\n",
              "</table>\n",
              "</div>"
            ],
            "text/plain": [
              "  DistrictName EstablishmentCode  ... HighestClass BoardName\n",
              "0         East             S0169  ...      Class 5       NaN\n",
              "1         East             S0099  ...     Class 12  C.B.S.E.\n",
              "\n",
              "[2 rows x 30 columns]"
            ]
          },
          "metadata": {},
          "execution_count": 4
        }
      ]
    },
    {
      "cell_type": "code",
      "metadata": {
        "id": "aGVow52u6Fh9",
        "colab": {
          "base_uri": "https://localhost:8080/",
          "height": 129
        },
        "outputId": "1aafb6a0-ca02-4fbb-c51f-a0683f562431"
      },
      "source": [
        "# load table 2\n",
        "facility = pd.read_csv('/content/School Facility Details.csv')\n",
        "facility.head(2)"
      ],
      "execution_count": 6,
      "outputs": [
        {
          "output_type": "execute_result",
          "data": {
            "text/html": [
              "<div>\n",
              "<style scoped>\n",
              "    .dataframe tbody tr th:only-of-type {\n",
              "        vertical-align: middle;\n",
              "    }\n",
              "\n",
              "    .dataframe tbody tr th {\n",
              "        vertical-align: top;\n",
              "    }\n",
              "\n",
              "    .dataframe thead th {\n",
              "        text-align: right;\n",
              "    }\n",
              "</style>\n",
              "<table border=\"1\" class=\"dataframe\">\n",
              "  <thead>\n",
              "    <tr style=\"text-align: right;\">\n",
              "      <th></th>\n",
              "      <th>EstablishmentCode</th>\n",
              "      <th>EstablishmentName</th>\n",
              "      <th>IsLibraryAvailable</th>\n",
              "      <th>AvailableBooksCount</th>\n",
              "      <th>IsFireExtgAvailable</th>\n",
              "      <th>ExtinguisherCount</th>\n",
              "      <th>HOIRoomAvailable</th>\n",
              "      <th>IsStaffRoomAvailable</th>\n",
              "      <th>NoofStaffRoom</th>\n",
              "      <th>IsLockerForStaffAvailable</th>\n",
              "      <th>IsSportsStoreRoomAvailable</th>\n",
              "    </tr>\n",
              "  </thead>\n",
              "  <tbody>\n",
              "    <tr>\n",
              "      <th>0</th>\n",
              "      <td>S1034</td>\n",
              "      <td>(I.E.C) INDIAN EVANGALISTIC CRUSADE MISSION PR...</td>\n",
              "      <td>Not Available</td>\n",
              "      <td>0</td>\n",
              "      <td>Available</td>\n",
              "      <td>1</td>\n",
              "      <td>Available</td>\n",
              "      <td>Not Available</td>\n",
              "      <td>0</td>\n",
              "      <td>Not Available</td>\n",
              "      <td>Not Available</td>\n",
              "    </tr>\n",
              "    <tr>\n",
              "      <th>1</th>\n",
              "      <td>S0516</td>\n",
              "      <td>10TH MILE GOVERNMENT PRIMARY SCHOOL</td>\n",
              "      <td>Not Available</td>\n",
              "      <td>0</td>\n",
              "      <td>Not Available</td>\n",
              "      <td>0</td>\n",
              "      <td>Available</td>\n",
              "      <td>Available</td>\n",
              "      <td>1</td>\n",
              "      <td>Not Available</td>\n",
              "      <td>Not Available</td>\n",
              "    </tr>\n",
              "  </tbody>\n",
              "</table>\n",
              "</div>"
            ],
            "text/plain": [
              "  EstablishmentCode  ... IsSportsStoreRoomAvailable\n",
              "0             S1034  ...              Not Available\n",
              "1             S0516  ...              Not Available\n",
              "\n",
              "[2 rows x 11 columns]"
            ]
          },
          "metadata": {},
          "execution_count": 6
        }
      ]
    },
    {
      "cell_type": "code",
      "metadata": {
        "id": "PQGdfEEEudzI"
      },
      "source": [
        "# create sqlite engine\n",
        "engine = create_engine('sqlite:///school.db', echo=True)\n",
        "# create connection to engine\n",
        "conn = engine.connect()"
      ],
      "execution_count": 7,
      "outputs": []
    },
    {
      "cell_type": "code",
      "metadata": {
        "id": "OudkpXECuz2n",
        "colab": {
          "base_uri": "https://localhost:8080/"
        },
        "outputId": "e652a1c7-c42a-41e6-e463-1ab61dc9fba1"
      },
      "source": [
        "# add the dataframe as a table in sqlite\n",
        "sqlite_table = \"school_details\"\n",
        "school.to_sql(sqlite_table, conn, if_exists='fail')\n",
        "\n",
        "sqlite_table2 = \"school_facility_details\"\n",
        "facility.to_sql(sqlite_table2, conn, if_exists='fail')"
      ],
      "execution_count": 8,
      "outputs": [
        {
          "output_type": "stream",
          "name": "stdout",
          "text": [
            "2021-10-07 00:51:13,921 INFO sqlalchemy.engine.Engine PRAGMA main.table_info(\"school_details\")\n",
            "2021-10-07 00:51:13,930 INFO sqlalchemy.engine.Engine [raw sql] ()\n",
            "2021-10-07 00:51:13,934 INFO sqlalchemy.engine.Engine PRAGMA temp.table_info(\"school_details\")\n",
            "2021-10-07 00:51:13,937 INFO sqlalchemy.engine.Engine [raw sql] ()\n",
            "2021-10-07 00:51:13,946 INFO sqlalchemy.engine.Engine \n",
            "CREATE TABLE school_details (\n",
            "\t\"index\" BIGINT, \n",
            "\t\"DistrictName\" TEXT, \n",
            "\t\"EstablishmentCode\" TEXT, \n",
            "\t\"EstablishmentName\" TEXT, \n",
            "\t\"BRCName\" TEXT, \n",
            "\t\"CRCName\" TEXT, \n",
            "\t\"SchoolLevel\" TEXT, \n",
            "\t\"ManagementName\" TEXT, \n",
            "\t\"LocalityHabitation\" TEXT, \n",
            "\t\"SubdivisionName\" TEXT, \n",
            "\t\"ConstituencyName\" TEXT, \n",
            "\t\"RevenueBlockName\" TEXT, \n",
            "\t\"CivicBodyName\" TEXT, \n",
            "\t\"WardName\" TEXT, \n",
            "\t\"PostOfficeName\" TEXT, \n",
            "\t\"PhoneNo\" TEXT, \n",
            "\t\"FaxNo\" TEXT, \n",
            "\t\"EmailID\" TEXT, \n",
            "\t\"Website\" TEXT, \n",
            "\t\"LocatedInRuralOrUrban\" TEXT, \n",
            "\t\"DiseCode\" TEXT, \n",
            "\t\"EstablishedDate\" TEXT, \n",
            "\t\"DistrictHQDistance (in Km)\" FLOAT, \n",
            "\t\"CRCDistance (in Km)\" FLOAT, \n",
            "\t\"BACDistance (in Km)\" FLOAT, \n",
            "\t\"IsRecognized\" TEXT, \n",
            "\t\"RecognizedBy\" TEXT, \n",
            "\t\"ContactPersonName\" FLOAT, \n",
            "\t\"LowestClass\" TEXT, \n",
            "\t\"HighestClass\" TEXT, \n",
            "\t\"BoardName\" TEXT\n",
            ")\n",
            "\n",
            "\n",
            "2021-10-07 00:51:13,950 INFO sqlalchemy.engine.Engine [no key 0.00419s] ()\n",
            "2021-10-07 00:51:13,976 INFO sqlalchemy.engine.Engine COMMIT\n",
            "2021-10-07 00:51:13,979 INFO sqlalchemy.engine.Engine CREATE INDEX ix_school_details_index ON school_details (\"index\")\n",
            "2021-10-07 00:51:13,982 INFO sqlalchemy.engine.Engine [no key 0.00265s] ()\n",
            "2021-10-07 00:51:13,996 INFO sqlalchemy.engine.Engine COMMIT\n",
            "2021-10-07 00:51:14,006 INFO sqlalchemy.engine.Engine BEGIN (implicit)\n",
            "2021-10-07 00:51:14,094 INFO sqlalchemy.engine.Engine INSERT INTO school_details (\"index\", \"DistrictName\", \"EstablishmentCode\", \"EstablishmentName\", \"BRCName\", \"CRCName\", \"SchoolLevel\", \"ManagementName\", \"LocalityHabitation\", \"SubdivisionName\", \"ConstituencyName\", \"RevenueBlockName\", \"CivicBodyName\", \"WardName\", \"PostOfficeName\", \"PhoneNo\", \"FaxNo\", \"EmailID\", \"Website\", \"LocatedInRuralOrUrban\", \"DiseCode\", \"EstablishedDate\", \"DistrictHQDistance (in Km)\", \"CRCDistance (in Km)\", \"BACDistance (in Km)\", \"IsRecognized\", \"RecognizedBy\", \"ContactPersonName\", \"LowestClass\", \"HighestClass\", \"BoardName\") VALUES (?, ?, ?, ?, ?, ?, ?, ?, ?, ?, ?, ?, ?, ?, ?, ?, ?, ?, ?, ?, ?, ?, ?, ?, ?, ?, ?, ?, ?, ?, ?)\n",
            "2021-10-07 00:51:14,096 INFO sqlalchemy.engine.Engine [generated in 0.07400s] ((0, 'East', 'S0169', 'BUDANG GOVERNMENT PRIMARY SCHOOL (E)', 'Duga Brc', 'Central Pendam Government Senior Secondary School', 'PS', 'State Govt.', 'BUDANG', 'Gangtok', 'Rhenock', 'Central Pendam', 'Central Pendam', 'Sajong', 'Upper Pendam', None, None, None, None, 'Urban Area', None, '28126', 58.0, 8.0, 16.0, 'Recognized', 'HRDD', None, 'Class 1', 'Class 5', None), (1, 'East', 'S0099', 'CENTRAL PENDAM GOVERNMENT SENIOR SECONDARY SCHOOL', 'Duga Brc', 'Central Pendam Government Senior Secondary School', 'SSS', 'State Govt.', 'CENTRAL PENDAM', 'Gangtok', 'West Pandam', 'Central Pendam', 'Central Pendam', 'Karmithang', 'Upper Pendam', '3592263812', None, None, None, 'Urban Area', '800401', '15342', 50.0, 0.0, 6.0, 'Recognized', 'HRDD', None, 'Class 1', 'Class 12', 'C.B.S.E.'), (2, 'East', 'S0848', 'CENTRAL POINT ACADEMY, CENTRAL PENDAM', 'Duga Brc', 'Central Pendam Government Senior Secondary School', 'SS', 'Private (Unaided)', 'UPPER BHURUNG CENTRAL PENDAM', 'Gangtok', 'West Pandam', 'Central Pendam', 'Central Pendam', 'Burung', 'Upper Pendam', '03592263809/263960', None, 'ksu_5162@yahoo.com', 'www.facebook.com/khanalkeshav (Group-CPA)', 'Urban Area', None, '37257.38680555556', 49.0, 1.5, 6.0, 'Recognized', 'HRDD, GOVT. OF SIKKIM', None, 'Class 1', 'Class 10', 'C.B.S.E.'), (3, 'East', 'S0190', 'CHEURIBOTEY GOVERNMENT JUNIOR HIGH SCHOOL (E)', 'Duga Brc', 'Central Pendam Government Senior Secondary School', 'JHS', 'State Govt.', 'CHEURIBOTEY', 'Gangtok', 'West Pandam', 'Central Pendam', 'Central Pendam', 'Cheuribotey', 'Duga', None, None, None, None, 'Urban Area', None, '28856', 60.0, 6.0, 6.0, 'Recognized', 'State Govt.', None, 'Class 1', 'Class 8', None), (4, 'East', 'S0111', 'DUGA GOVERNMENT SECONDARY SCHOOL', 'Duga Brc', 'Central Pendam Government Senior Secondary School', 'SS', 'State Govt.', 'DUGA', 'Gangtok', 'West Pandam', 'Central Pendam', 'Central Pendam', 'Duga', 'Duga', '9832082915', None, 'dugaschool@gmail.com', None, 'Urban Area', None, '1828', 52.0, 0.0, 0.5, 'Recognized', 'c.b.s.e.', None, 'Class 1', 'Class 10', 'C.B.S.E.'), (5, 'East', 'S0856', 'EASWARAMMA SAI GURUKOOL ACCADEMY', 'Duga Brc', 'Central Pendam Government Senior Secondary School', 'PS', 'Private (Unaided)', 'RALUNG', 'Gangtok', 'West Pandam', 'Central Pendam', 'West Pendam', 'Ralang', 'West Pendam', '9733056624', None, None, None, 'Urban Area', None, '40179.66805555556', 0.0, 0.2, 0.2, 'Recognized', None, None, 'Class 1', 'Class 5', None), (6, 'East', 'S0870', 'ETERNAL ENGLISH SCHOOL, WEST PENDAM', 'Duga Brc', 'Central Pendam Government Senior Secondary School', 'PS', 'Private (Unaided)', 'SAKHU WEST PENDAM', 'Gangtok', 'West Pandam', 'West Pendam', 'West Pendam', 'Sakhu', 'Sakhu Busty', '9734190544', None, None, None, 'Urban Area', None, '37300.66805555556', 42.0, 3.0, 4.0, 'Recognized', 'HRDD OF SIKKIM', None, 'Class 1', 'Class 5', None), (7, 'East', 'S0157', 'KHANI GOAN GOVERNMENT PRIMARY SCHOOL', 'Duga Brc', 'Central Pendam Government Senior Secondary School', 'PS', 'State Govt.', 'WEST PENDAM', 'Gangtok', 'West Pandam', 'West Pendam', 'West Pendam', 'Khanigaon', 'West Pendam', '9832470263', None, None, None, 'Urban Area', '801801', '29587', 45.0, 5.0, 4.0, 'Recognized', 'State Govt.', None, 'Class 1', 'Class 5', 'C.B.S.E.')  ... displaying 10 of 1249 total bound parameter sets ...  (1247, 'West', 'S0340', 'TINGTING GAON GOVERNMENT PRIMARY SCHOOL', 'Yuksom Brc', 'Yuksom Government Secondary School', 'PS', 'State Govt.', 'TING TING GAON', 'Gyalshing', 'Yoksam-Tashiding', 'Yoksam', 'Yuksom', 'Tingting', 'Yuksom', '9593377402', None, None, None, 'Urban Area', '100282', '29587', 36.0, 3.0, 6.0, 'Recognized', 'STATE GOVERNMENT', None, 'Class 1', 'Class 5', None), (1248, 'West', 'S0542', 'TSONG GOVERNMENT PRIMARY SCHOOL', 'Yuksom Brc', 'Yuksom Government Secondary School', 'PS', 'State Govt.', 'TSONG', 'Gyalshing', 'Yoksam-Tashiding', 'Yoksam', 'Yuksom', 'Yoksam', 'Yuksom', None, None, None, None, 'Urban Area', None, '28176', 40.0, 7.0, 8.0, 'Recognized', 'State Government', None, 'Class 1', 'Class 5', 'C.B.S.E.'))\n",
            "2021-10-07 00:51:14,120 INFO sqlalchemy.engine.Engine COMMIT\n",
            "2021-10-07 00:51:14,144 INFO sqlalchemy.engine.Engine PRAGMA main.table_info(\"school_facility_details\")\n",
            "2021-10-07 00:51:14,148 INFO sqlalchemy.engine.Engine [raw sql] ()\n",
            "2021-10-07 00:51:14,151 INFO sqlalchemy.engine.Engine PRAGMA temp.table_info(\"school_facility_details\")\n",
            "2021-10-07 00:51:14,154 INFO sqlalchemy.engine.Engine [raw sql] ()\n",
            "2021-10-07 00:51:14,162 INFO sqlalchemy.engine.Engine \n",
            "CREATE TABLE school_facility_details (\n",
            "\t\"index\" BIGINT, \n",
            "\t\"EstablishmentCode\" TEXT, \n",
            "\t\"EstablishmentName\" TEXT, \n",
            "\t\"IsLibraryAvailable\" TEXT, \n",
            "\t\"AvailableBooksCount\" BIGINT, \n",
            "\t\"IsFireExtgAvailable\" TEXT, \n",
            "\t\"ExtinguisherCount\" BIGINT, \n",
            "\t\"HOIRoomAvailable\" TEXT, \n",
            "\t\"IsStaffRoomAvailable\" TEXT, \n",
            "\t\"NoofStaffRoom\" BIGINT, \n",
            "\t\"IsLockerForStaffAvailable\" TEXT, \n",
            "\t\"IsSportsStoreRoomAvailable\" TEXT\n",
            ")\n",
            "\n",
            "\n",
            "2021-10-07 00:51:14,164 INFO sqlalchemy.engine.Engine [no key 0.00187s] ()\n",
            "2021-10-07 00:51:14,182 INFO sqlalchemy.engine.Engine COMMIT\n",
            "2021-10-07 00:51:14,186 INFO sqlalchemy.engine.Engine CREATE INDEX ix_school_facility_details_index ON school_facility_details (\"index\")\n",
            "2021-10-07 00:51:14,188 INFO sqlalchemy.engine.Engine [no key 0.00186s] ()\n",
            "2021-10-07 00:51:14,206 INFO sqlalchemy.engine.Engine COMMIT\n",
            "2021-10-07 00:51:14,213 INFO sqlalchemy.engine.Engine BEGIN (implicit)\n",
            "2021-10-07 00:51:14,251 INFO sqlalchemy.engine.Engine INSERT INTO school_facility_details (\"index\", \"EstablishmentCode\", \"EstablishmentName\", \"IsLibraryAvailable\", \"AvailableBooksCount\", \"IsFireExtgAvailable\", \"ExtinguisherCount\", \"HOIRoomAvailable\", \"IsStaffRoomAvailable\", \"NoofStaffRoom\", \"IsLockerForStaffAvailable\", \"IsSportsStoreRoomAvailable\") VALUES (?, ?, ?, ?, ?, ?, ?, ?, ?, ?, ?, ?)\n",
            "2021-10-07 00:51:14,253 INFO sqlalchemy.engine.Engine [generated in 0.03265s] ((0, 'S1034', '(I.E.C) INDIAN EVANGALISTIC CRUSADE MISSION PRIMARY SCHOOL, RIMBI', 'Not Available', 0, 'Available', 1, 'Available', 'Not Available', 0, 'Not Available', 'Not Available'), (1, 'S0516', '10TH MILE GOVERNMENT PRIMARY SCHOOL', 'Not Available', 0, 'Not Available', 0, 'Available', 'Available', 1, 'Not Available', 'Not Available'), (2, 'S0237', '4TH MILE GOVERNMENT JUNIOR HIGH SCHOOL', 'Not Available', 0, 'Available', 2, 'Not Available', 'Not Available', 0, 'Not Available', 'Not Available'), (3, 'S0692', 'AAPGAZI GOVERNMENT PRIMARY SCHOOL', 'Not Available', 0, 'Not Available', 0, 'Not Available', 'Not Available', 0, 'Not Available', 'Not Available'), (4, 'S0374', 'AARUBOTEY GOVERNMENT PRIMARY SCHOOL', 'Not Available', 0, 'Available', 2, 'Not Available', 'Not Available', 0, 'Not Available', 'Not Available'), (5, 'S0218', 'ADAMPOOL GOVERNMENT JUNIOR HIGH SCHOOL', 'Available', 217, 'Available', 5, 'Available', 'Available', 1, 'Available', 'Not Available'), (6, 'S1064', 'ADONAI HOMES , NAYA BAZAR', 'Available', 0, 'Available', 0, 'Not Available', 'Available', 2, 'Not Available', 'Available'), (7, 'C1348', 'ADVANCED TECHNICAL TRAINING CENTRE', 'Available', 0, 'Available', 0, 'Available', 'Available', 0, 'Available', 'Available')  ... displaying 10 of 1256 total bound parameter sets ...  (1254, 'S0185', 'ZITLANG GOVERNMENT JUNIOR HIGH SCHOOL', 'Available', 0, 'Available', 5, 'Not Available', 'Available', 1, 'Not Available', 'Not Available'), (1255, 'S0267', 'ZOOM GOVERNMENT SECONDARY SCHOOL', 'Not Available', 0, 'Available', 6, 'Available', 'Available', 1, 'Available', 'Not Available'))\n",
            "2021-10-07 00:51:14,265 INFO sqlalchemy.engine.Engine COMMIT\n"
          ]
        }
      ]
    },
    {
      "cell_type": "markdown",
      "metadata": {
        "id": "josvz8RqutAv"
      },
      "source": [
        "## Aggregates\n",
        "\n",
        "1. What is the average BACDistance (in Km)? Rename the ouptut column to \"avg_bac_distance.\""
      ]
    },
    {
      "cell_type": "code",
      "metadata": {
        "id": "dD-WyYtBuzuu",
        "colab": {
          "base_uri": "https://localhost:8080/",
          "height": 168
        },
        "outputId": "9e35aa71-0e7e-4c1a-bace-16a5752e51eb"
      },
      "source": [
        "# Write your SQL query in this string\n",
        "sql = \"\"\"\n",
        "SELECT AVG (\"BACDistance (in Km)\") AS avg_bac_distance\n",
        "FROM school_details\n",
        "\"\"\"\n",
        "\n",
        "# Read the sql query into pandas to view the results\n",
        "df = pd.read_sql_query(sql, engine)\n",
        "df.head()"
      ],
      "execution_count": 9,
      "outputs": [
        {
          "output_type": "stream",
          "name": "stdout",
          "text": [
            "2021-10-07 00:58:18,542 INFO sqlalchemy.engine.Engine \n",
            "SELECT AVG (\"BACDistance (in Km)\") AS avg_bac_distance\n",
            "FROM school_details\n",
            "\n",
            "2021-10-07 00:58:18,546 INFO sqlalchemy.engine.Engine [raw sql] ()\n"
          ]
        },
        {
          "output_type": "execute_result",
          "data": {
            "text/html": [
              "<div>\n",
              "<style scoped>\n",
              "    .dataframe tbody tr th:only-of-type {\n",
              "        vertical-align: middle;\n",
              "    }\n",
              "\n",
              "    .dataframe tbody tr th {\n",
              "        vertical-align: top;\n",
              "    }\n",
              "\n",
              "    .dataframe thead th {\n",
              "        text-align: right;\n",
              "    }\n",
              "</style>\n",
              "<table border=\"1\" class=\"dataframe\">\n",
              "  <thead>\n",
              "    <tr style=\"text-align: right;\">\n",
              "      <th></th>\n",
              "      <th>avg_bac_distance</th>\n",
              "    </tr>\n",
              "  </thead>\n",
              "  <tbody>\n",
              "    <tr>\n",
              "      <th>0</th>\n",
              "      <td>12.681822</td>\n",
              "    </tr>\n",
              "  </tbody>\n",
              "</table>\n",
              "</div>"
            ],
            "text/plain": [
              "   avg_bac_distance\n",
              "0         12.681822"
            ]
          },
          "metadata": {},
          "execution_count": 9
        }
      ]
    },
    {
      "cell_type": "markdown",
      "metadata": {
        "id": "2hrqy6KgvOdh"
      },
      "source": [
        "## GROUP BY\n",
        "\n",
        "2. What is the average BACDistance (in Km) by School Level? Sort the results from highest average to lowest average."
      ]
    },
    {
      "cell_type": "code",
      "metadata": {
        "id": "NkjPihzvudvR",
        "colab": {
          "base_uri": "https://localhost:8080/",
          "height": 328
        },
        "outputId": "75caf60d-719a-4349-80ca-c5ee0c72d046"
      },
      "source": [
        "# Write your SQL query in this string\n",
        "sql = \"\"\"\n",
        "SELECT SchoolLevel, AVG(\"BACDistance (in Km)\") as avg_bac_distance\n",
        "FROM school_details\n",
        "GROUP BY SchoolLevel\n",
        "ORDER BY avg_bac_distance DESC\n",
        "\"\"\"\n",
        "\n",
        "# Read the sql query into pandas to view the results\n",
        "df = pd.read_sql_query(sql, engine)\n",
        "df.head()"
      ],
      "execution_count": 10,
      "outputs": [
        {
          "output_type": "stream",
          "name": "stdout",
          "text": [
            "2021-10-07 00:58:52,026 INFO sqlalchemy.engine.Engine \n",
            "SELECT SchoolLevel, AVG(\"BACDistance (in Km)\") as avg_bac_distance\n",
            "FROM school_details\n",
            "GROUP BY SchoolLevel\n",
            "ORDER BY avg_bac_distance DESC\n",
            "\n",
            "2021-10-07 00:58:52,028 INFO sqlalchemy.engine.Engine [raw sql] ()\n"
          ]
        },
        {
          "output_type": "execute_result",
          "data": {
            "text/html": [
              "<div>\n",
              "<style scoped>\n",
              "    .dataframe tbody tr th:only-of-type {\n",
              "        vertical-align: middle;\n",
              "    }\n",
              "\n",
              "    .dataframe tbody tr th {\n",
              "        vertical-align: top;\n",
              "    }\n",
              "\n",
              "    .dataframe thead th {\n",
              "        text-align: right;\n",
              "    }\n",
              "</style>\n",
              "<table border=\"1\" class=\"dataframe\">\n",
              "  <thead>\n",
              "    <tr style=\"text-align: right;\">\n",
              "      <th></th>\n",
              "      <th>SchoolLevel</th>\n",
              "      <th>avg_bac_distance</th>\n",
              "    </tr>\n",
              "  </thead>\n",
              "  <tbody>\n",
              "    <tr>\n",
              "      <th>0</th>\n",
              "      <td>JHS</td>\n",
              "      <td>13.692647</td>\n",
              "    </tr>\n",
              "    <tr>\n",
              "      <th>1</th>\n",
              "      <td>PS</td>\n",
              "      <td>12.830787</td>\n",
              "    </tr>\n",
              "    <tr>\n",
              "      <th>2</th>\n",
              "      <td>SS</td>\n",
              "      <td>12.630872</td>\n",
              "    </tr>\n",
              "    <tr>\n",
              "      <th>3</th>\n",
              "      <td>SSS</td>\n",
              "      <td>10.863095</td>\n",
              "    </tr>\n",
              "    <tr>\n",
              "      <th>4</th>\n",
              "      <td>LPS</td>\n",
              "      <td>5.368421</td>\n",
              "    </tr>\n",
              "  </tbody>\n",
              "</table>\n",
              "</div>"
            ],
            "text/plain": [
              "  SchoolLevel  avg_bac_distance\n",
              "0         JHS         13.692647\n",
              "1          PS         12.830787\n",
              "2          SS         12.630872\n",
              "3         SSS         10.863095\n",
              "4         LPS          5.368421"
            ]
          },
          "metadata": {},
          "execution_count": 10
        }
      ]
    },
    {
      "cell_type": "markdown",
      "metadata": {
        "id": "bodZsD2av1dD"
      },
      "source": [
        "## Having\n",
        "\n",
        "3. Repeat the previous query, but only display results where the average distance is at least 10 km."
      ]
    },
    {
      "cell_type": "code",
      "metadata": {
        "id": "nyKYBoMuwCbR",
        "colab": {
          "base_uri": "https://localhost:8080/",
          "height": 314
        },
        "outputId": "5bbe68f3-5f4b-4655-94b4-9e6ac74ce8aa"
      },
      "source": [
        "# Write your SQL query in this string\n",
        "sql = \"\"\"\n",
        "SELECT SchoolLevel, AVG(\"BACDistance (in Km)\") as avg_bac_distance\n",
        "FROM school_details\n",
        "GROUP BY SchoolLevel\n",
        "HAVING avg_bac_distance >= 10\n",
        "ORDER BY avg_bac_distance DESC\n",
        "\"\"\"\n",
        "\n",
        "# Read the sql query into pandas to view the results\n",
        "df = pd.read_sql_query(sql, engine)\n",
        "df.head()"
      ],
      "execution_count": 11,
      "outputs": [
        {
          "output_type": "stream",
          "name": "stdout",
          "text": [
            "2021-10-07 00:59:16,945 INFO sqlalchemy.engine.Engine \n",
            "SELECT SchoolLevel, AVG(\"BACDistance (in Km)\") as avg_bac_distance\n",
            "FROM school_details\n",
            "GROUP BY SchoolLevel\n",
            "HAVING avg_bac_distance >= 10\n",
            "ORDER BY avg_bac_distance DESC\n",
            "\n",
            "2021-10-07 00:59:16,950 INFO sqlalchemy.engine.Engine [raw sql] ()\n"
          ]
        },
        {
          "output_type": "execute_result",
          "data": {
            "text/html": [
              "<div>\n",
              "<style scoped>\n",
              "    .dataframe tbody tr th:only-of-type {\n",
              "        vertical-align: middle;\n",
              "    }\n",
              "\n",
              "    .dataframe tbody tr th {\n",
              "        vertical-align: top;\n",
              "    }\n",
              "\n",
              "    .dataframe thead th {\n",
              "        text-align: right;\n",
              "    }\n",
              "</style>\n",
              "<table border=\"1\" class=\"dataframe\">\n",
              "  <thead>\n",
              "    <tr style=\"text-align: right;\">\n",
              "      <th></th>\n",
              "      <th>SchoolLevel</th>\n",
              "      <th>avg_bac_distance</th>\n",
              "    </tr>\n",
              "  </thead>\n",
              "  <tbody>\n",
              "    <tr>\n",
              "      <th>0</th>\n",
              "      <td>JHS</td>\n",
              "      <td>13.692647</td>\n",
              "    </tr>\n",
              "    <tr>\n",
              "      <th>1</th>\n",
              "      <td>PS</td>\n",
              "      <td>12.830787</td>\n",
              "    </tr>\n",
              "    <tr>\n",
              "      <th>2</th>\n",
              "      <td>SS</td>\n",
              "      <td>12.630872</td>\n",
              "    </tr>\n",
              "    <tr>\n",
              "      <th>3</th>\n",
              "      <td>SSS</td>\n",
              "      <td>10.863095</td>\n",
              "    </tr>\n",
              "  </tbody>\n",
              "</table>\n",
              "</div>"
            ],
            "text/plain": [
              "  SchoolLevel  avg_bac_distance\n",
              "0         JHS         13.692647\n",
              "1          PS         12.830787\n",
              "2          SS         12.630872\n",
              "3         SSS         10.863095"
            ]
          },
          "metadata": {},
          "execution_count": 11
        }
      ]
    },
    {
      "cell_type": "markdown",
      "metadata": {
        "id": "XXeG19hywLlp"
      },
      "source": [
        "## Joins\n",
        "\n",
        "4. Join the two tables together (school_details and school_details). Start by displaying all of the columns, but limit the resulting rows to just 2."
      ]
    },
    {
      "cell_type": "code",
      "metadata": {
        "id": "_JlXTE_ywUeQ",
        "colab": {
          "base_uri": "https://localhost:8080/",
          "height": 462
        },
        "outputId": "a20c21a2-d11d-44d3-d88a-54ef58f1ad9e"
      },
      "source": [
        "# Write your SQL query in this string\n",
        "sql = \"\"\"\n",
        "SELECT *\n",
        "FROM school_details s\n",
        "  JOIN school_facility_details f\n",
        "  ON f.EstablishmentCode = s.EstablishmentCode\n",
        "LIMIT 2\n",
        "\"\"\"\n",
        "\n",
        "# Read the sql query into pandas to view the results\n",
        "df = pd.read_sql_query(sql, engine)\n",
        "df.head()"
      ],
      "execution_count": 12,
      "outputs": [
        {
          "output_type": "stream",
          "name": "stdout",
          "text": [
            "2021-10-07 00:59:56,245 INFO sqlalchemy.engine.Engine \n",
            "SELECT *\n",
            "FROM school_details s\n",
            "  JOIN school_facility_details f\n",
            "  ON f.EstablishmentCode = s.EstablishmentCode\n",
            "LIMIT 2\n",
            "\n",
            "2021-10-07 00:59:56,250 INFO sqlalchemy.engine.Engine [raw sql] ()\n"
          ]
        },
        {
          "output_type": "execute_result",
          "data": {
            "text/html": [
              "<div>\n",
              "<style scoped>\n",
              "    .dataframe tbody tr th:only-of-type {\n",
              "        vertical-align: middle;\n",
              "    }\n",
              "\n",
              "    .dataframe tbody tr th {\n",
              "        vertical-align: top;\n",
              "    }\n",
              "\n",
              "    .dataframe thead th {\n",
              "        text-align: right;\n",
              "    }\n",
              "</style>\n",
              "<table border=\"1\" class=\"dataframe\">\n",
              "  <thead>\n",
              "    <tr style=\"text-align: right;\">\n",
              "      <th></th>\n",
              "      <th>index</th>\n",
              "      <th>DistrictName</th>\n",
              "      <th>EstablishmentCode</th>\n",
              "      <th>EstablishmentName</th>\n",
              "      <th>BRCName</th>\n",
              "      <th>CRCName</th>\n",
              "      <th>SchoolLevel</th>\n",
              "      <th>ManagementName</th>\n",
              "      <th>LocalityHabitation</th>\n",
              "      <th>SubdivisionName</th>\n",
              "      <th>ConstituencyName</th>\n",
              "      <th>RevenueBlockName</th>\n",
              "      <th>CivicBodyName</th>\n",
              "      <th>WardName</th>\n",
              "      <th>PostOfficeName</th>\n",
              "      <th>PhoneNo</th>\n",
              "      <th>FaxNo</th>\n",
              "      <th>EmailID</th>\n",
              "      <th>Website</th>\n",
              "      <th>LocatedInRuralOrUrban</th>\n",
              "      <th>DiseCode</th>\n",
              "      <th>EstablishedDate</th>\n",
              "      <th>DistrictHQDistance (in Km)</th>\n",
              "      <th>CRCDistance (in Km)</th>\n",
              "      <th>BACDistance (in Km)</th>\n",
              "      <th>IsRecognized</th>\n",
              "      <th>RecognizedBy</th>\n",
              "      <th>ContactPersonName</th>\n",
              "      <th>LowestClass</th>\n",
              "      <th>HighestClass</th>\n",
              "      <th>BoardName</th>\n",
              "      <th>index</th>\n",
              "      <th>EstablishmentCode</th>\n",
              "      <th>EstablishmentName</th>\n",
              "      <th>IsLibraryAvailable</th>\n",
              "      <th>AvailableBooksCount</th>\n",
              "      <th>IsFireExtgAvailable</th>\n",
              "      <th>ExtinguisherCount</th>\n",
              "      <th>HOIRoomAvailable</th>\n",
              "      <th>IsStaffRoomAvailable</th>\n",
              "      <th>NoofStaffRoom</th>\n",
              "      <th>IsLockerForStaffAvailable</th>\n",
              "      <th>IsSportsStoreRoomAvailable</th>\n",
              "    </tr>\n",
              "  </thead>\n",
              "  <tbody>\n",
              "    <tr>\n",
              "      <th>0</th>\n",
              "      <td>0</td>\n",
              "      <td>East</td>\n",
              "      <td>S0169</td>\n",
              "      <td>BUDANG GOVERNMENT PRIMARY SCHOOL (E)</td>\n",
              "      <td>Duga Brc</td>\n",
              "      <td>Central Pendam Government Senior Secondary School</td>\n",
              "      <td>PS</td>\n",
              "      <td>State Govt.</td>\n",
              "      <td>BUDANG</td>\n",
              "      <td>Gangtok</td>\n",
              "      <td>Rhenock</td>\n",
              "      <td>Central Pendam</td>\n",
              "      <td>Central Pendam</td>\n",
              "      <td>Sajong</td>\n",
              "      <td>Upper Pendam</td>\n",
              "      <td>None</td>\n",
              "      <td>None</td>\n",
              "      <td>None</td>\n",
              "      <td>None</td>\n",
              "      <td>Urban Area</td>\n",
              "      <td>None</td>\n",
              "      <td>28126</td>\n",
              "      <td>58.0</td>\n",
              "      <td>8.0</td>\n",
              "      <td>16.0</td>\n",
              "      <td>Recognized</td>\n",
              "      <td>HRDD</td>\n",
              "      <td>None</td>\n",
              "      <td>Class 1</td>\n",
              "      <td>Class 5</td>\n",
              "      <td>None</td>\n",
              "      <td>121</td>\n",
              "      <td>S0169</td>\n",
              "      <td>BUDANG GOVERNMENT PRIMARY SCHOOL (E)</td>\n",
              "      <td>Available</td>\n",
              "      <td>100</td>\n",
              "      <td>Available</td>\n",
              "      <td>2</td>\n",
              "      <td>Available</td>\n",
              "      <td>Available</td>\n",
              "      <td>1</td>\n",
              "      <td>Not Available</td>\n",
              "      <td>Not Available</td>\n",
              "    </tr>\n",
              "    <tr>\n",
              "      <th>1</th>\n",
              "      <td>1</td>\n",
              "      <td>East</td>\n",
              "      <td>S0099</td>\n",
              "      <td>CENTRAL PENDAM GOVERNMENT SENIOR SECONDARY SCHOOL</td>\n",
              "      <td>Duga Brc</td>\n",
              "      <td>Central Pendam Government Senior Secondary School</td>\n",
              "      <td>SSS</td>\n",
              "      <td>State Govt.</td>\n",
              "      <td>CENTRAL PENDAM</td>\n",
              "      <td>Gangtok</td>\n",
              "      <td>West Pandam</td>\n",
              "      <td>Central Pendam</td>\n",
              "      <td>Central Pendam</td>\n",
              "      <td>Karmithang</td>\n",
              "      <td>Upper Pendam</td>\n",
              "      <td>3592263812</td>\n",
              "      <td>None</td>\n",
              "      <td>None</td>\n",
              "      <td>None</td>\n",
              "      <td>Urban Area</td>\n",
              "      <td>800401</td>\n",
              "      <td>15342</td>\n",
              "      <td>50.0</td>\n",
              "      <td>0.0</td>\n",
              "      <td>6.0</td>\n",
              "      <td>Recognized</td>\n",
              "      <td>HRDD</td>\n",
              "      <td>None</td>\n",
              "      <td>Class 1</td>\n",
              "      <td>Class 12</td>\n",
              "      <td>C.B.S.E.</td>\n",
              "      <td>137</td>\n",
              "      <td>S0099</td>\n",
              "      <td>CENTRAL PENDAM GOVERNMENT SENIOR SECONDARY SCHOOL</td>\n",
              "      <td>Available</td>\n",
              "      <td>0</td>\n",
              "      <td>Available</td>\n",
              "      <td>5</td>\n",
              "      <td>Available</td>\n",
              "      <td>Available</td>\n",
              "      <td>2</td>\n",
              "      <td>Not Available</td>\n",
              "      <td>Available</td>\n",
              "    </tr>\n",
              "  </tbody>\n",
              "</table>\n",
              "</div>"
            ],
            "text/plain": [
              "   index DistrictName  ... IsLockerForStaffAvailable IsSportsStoreRoomAvailable\n",
              "0      0         East  ...             Not Available              Not Available\n",
              "1      1         East  ...             Not Available                  Available\n",
              "\n",
              "[2 rows x 43 columns]"
            ]
          },
          "metadata": {},
          "execution_count": 12
        }
      ]
    },
    {
      "cell_type": "markdown",
      "metadata": {
        "id": "8HFsQfZLts0i"
      },
      "source": [
        "5. Now, select just the schools where the SchoolLevel is \"PS\" that do not have libraries."
      ]
    },
    {
      "cell_type": "code",
      "metadata": {
        "id": "kDXqMQjdw2fK",
        "colab": {
          "base_uri": "https://localhost:8080/",
          "height": 345
        },
        "outputId": "358c80b2-f3d9-4edd-bf2d-d67071faf8e7"
      },
      "source": [
        "# Write your SQL query in this string\n",
        "sql = \"\"\"\n",
        "SELECT s.EstablishmentName, s.SchoolLevel, f.IsLibraryAvailable\n",
        "FROM school_details s\n",
        "  JOIN school_facility_details f\n",
        "  ON f.EstablishmentCode = s.EstablishmentCode\n",
        "WHERE s.SchoolLevel = 'PS' AND f.IsLibraryAvailable = 'Not Available'\n",
        "\"\"\"\n",
        "\n",
        "# Read the sql query into pandas to view the results\n",
        "df = pd.read_sql_query(sql, engine)\n",
        "df.head()"
      ],
      "execution_count": 13,
      "outputs": [
        {
          "output_type": "stream",
          "name": "stdout",
          "text": [
            "2021-10-07 01:00:31,904 INFO sqlalchemy.engine.Engine \n",
            "SELECT s.EstablishmentName, s.SchoolLevel, f.IsLibraryAvailable\n",
            "FROM school_details s\n",
            "  JOIN school_facility_details f\n",
            "  ON f.EstablishmentCode = s.EstablishmentCode\n",
            "WHERE s.SchoolLevel = 'PS' AND f.IsLibraryAvailable = 'Not Available'\n",
            "\n",
            "2021-10-07 01:00:31,907 INFO sqlalchemy.engine.Engine [raw sql] ()\n"
          ]
        },
        {
          "output_type": "execute_result",
          "data": {
            "text/html": [
              "<div>\n",
              "<style scoped>\n",
              "    .dataframe tbody tr th:only-of-type {\n",
              "        vertical-align: middle;\n",
              "    }\n",
              "\n",
              "    .dataframe tbody tr th {\n",
              "        vertical-align: top;\n",
              "    }\n",
              "\n",
              "    .dataframe thead th {\n",
              "        text-align: right;\n",
              "    }\n",
              "</style>\n",
              "<table border=\"1\" class=\"dataframe\">\n",
              "  <thead>\n",
              "    <tr style=\"text-align: right;\">\n",
              "      <th></th>\n",
              "      <th>EstablishmentName</th>\n",
              "      <th>SchoolLevel</th>\n",
              "      <th>IsLibraryAvailable</th>\n",
              "    </tr>\n",
              "  </thead>\n",
              "  <tbody>\n",
              "    <tr>\n",
              "      <th>0</th>\n",
              "      <td>EASWARAMMA SAI GURUKOOL ACCADEMY</td>\n",
              "      <td>PS</td>\n",
              "      <td>Not Available</td>\n",
              "    </tr>\n",
              "    <tr>\n",
              "      <th>1</th>\n",
              "      <td>NEW GARDEN BOARDING SCHOOL (SAJONG)</td>\n",
              "      <td>PS</td>\n",
              "      <td>Not Available</td>\n",
              "    </tr>\n",
              "    <tr>\n",
              "      <th>2</th>\n",
              "      <td>SARASWATI SHISHU VIDHYALAYA, BUDANG</td>\n",
              "      <td>PS</td>\n",
              "      <td>Not Available</td>\n",
              "    </tr>\n",
              "    <tr>\n",
              "      <th>3</th>\n",
              "      <td>SAWNEY GOVERNMENT PRIMARY SCHOOL</td>\n",
              "      <td>PS</td>\n",
              "      <td>Not Available</td>\n",
              "    </tr>\n",
              "    <tr>\n",
              "      <th>4</th>\n",
              "      <td>UPPER PACHAK GOVERNMENT PRIMARY SCHOOL</td>\n",
              "      <td>PS</td>\n",
              "      <td>Not Available</td>\n",
              "    </tr>\n",
              "  </tbody>\n",
              "</table>\n",
              "</div>"
            ],
            "text/plain": [
              "                        EstablishmentName SchoolLevel IsLibraryAvailable\n",
              "0        EASWARAMMA SAI GURUKOOL ACCADEMY          PS      Not Available\n",
              "1     NEW GARDEN BOARDING SCHOOL (SAJONG)          PS      Not Available\n",
              "2     SARASWATI SHISHU VIDHYALAYA, BUDANG          PS      Not Available\n",
              "3        SAWNEY GOVERNMENT PRIMARY SCHOOL          PS      Not Available\n",
              "4  UPPER PACHAK GOVERNMENT PRIMARY SCHOOL          PS      Not Available"
            ]
          },
          "metadata": {},
          "execution_count": 13
        }
      ]
    },
    {
      "cell_type": "markdown",
      "metadata": {
        "id": "oEj7VseBw26j"
      },
      "source": [
        "6. Build off the previous query, but order the results alphabetically by name."
      ]
    },
    {
      "cell_type": "code",
      "metadata": {
        "id": "xw6SGQHQw4dS",
        "colab": {
          "base_uri": "https://localhost:8080/",
          "height": 363
        },
        "outputId": "4f20f05c-7a49-4a93-df6e-bb5dfb86c8a7"
      },
      "source": [
        "# Write your SQL query in this string\n",
        "sql = \"\"\"\n",
        "SELECT s.EstablishmentName, s.SchoolLevel, f.IsLibraryAvailable\n",
        "FROM school_details s\n",
        "  JOIN school_facility_details f\n",
        "  ON f.EstablishmentCode = s.EstablishmentCode\n",
        "WHERE s.SchoolLevel = 'PS' AND f.IsLibraryAvailable = 'Not Available'\n",
        "ORDER BY s.EstablishmentName\n",
        "\"\"\"\n",
        "\n",
        "# Read the sql query into pandas to view the results\n",
        "df = pd.read_sql_query(sql, engine)\n",
        "df.head()"
      ],
      "execution_count": 14,
      "outputs": [
        {
          "output_type": "stream",
          "name": "stdout",
          "text": [
            "2021-10-07 01:00:34,097 INFO sqlalchemy.engine.Engine \n",
            "SELECT s.EstablishmentName, s.SchoolLevel, f.IsLibraryAvailable\n",
            "FROM school_details s\n",
            "  JOIN school_facility_details f\n",
            "  ON f.EstablishmentCode = s.EstablishmentCode\n",
            "WHERE s.SchoolLevel = 'PS' AND f.IsLibraryAvailable = 'Not Available'\n",
            "ORDER BY s.EstablishmentName\n",
            "\n",
            "2021-10-07 01:00:34,102 INFO sqlalchemy.engine.Engine [raw sql] ()\n"
          ]
        },
        {
          "output_type": "execute_result",
          "data": {
            "text/html": [
              "<div>\n",
              "<style scoped>\n",
              "    .dataframe tbody tr th:only-of-type {\n",
              "        vertical-align: middle;\n",
              "    }\n",
              "\n",
              "    .dataframe tbody tr th {\n",
              "        vertical-align: top;\n",
              "    }\n",
              "\n",
              "    .dataframe thead th {\n",
              "        text-align: right;\n",
              "    }\n",
              "</style>\n",
              "<table border=\"1\" class=\"dataframe\">\n",
              "  <thead>\n",
              "    <tr style=\"text-align: right;\">\n",
              "      <th></th>\n",
              "      <th>EstablishmentName</th>\n",
              "      <th>SchoolLevel</th>\n",
              "      <th>IsLibraryAvailable</th>\n",
              "    </tr>\n",
              "  </thead>\n",
              "  <tbody>\n",
              "    <tr>\n",
              "      <th>0</th>\n",
              "      <td>(I.E.C) INDIAN EVANGALISTIC CRUSADE MISSION PR...</td>\n",
              "      <td>PS</td>\n",
              "      <td>Not Available</td>\n",
              "    </tr>\n",
              "    <tr>\n",
              "      <th>1</th>\n",
              "      <td>10TH MILE GOVERNMENT PRIMARY SCHOOL</td>\n",
              "      <td>PS</td>\n",
              "      <td>Not Available</td>\n",
              "    </tr>\n",
              "    <tr>\n",
              "      <th>2</th>\n",
              "      <td>AAPGAZI GOVERNMENT PRIMARY SCHOOL</td>\n",
              "      <td>PS</td>\n",
              "      <td>Not Available</td>\n",
              "    </tr>\n",
              "    <tr>\n",
              "      <th>3</th>\n",
              "      <td>AARUBOTEY GOVERNMENT PRIMARY SCHOOL</td>\n",
              "      <td>PS</td>\n",
              "      <td>Not Available</td>\n",
              "    </tr>\n",
              "    <tr>\n",
              "      <th>4</th>\n",
              "      <td>AHO-YANGTAM GOVERNMENT PRIMARY SCHOOL</td>\n",
              "      <td>PS</td>\n",
              "      <td>Not Available</td>\n",
              "    </tr>\n",
              "  </tbody>\n",
              "</table>\n",
              "</div>"
            ],
            "text/plain": [
              "                                   EstablishmentName  ... IsLibraryAvailable\n",
              "0  (I.E.C) INDIAN EVANGALISTIC CRUSADE MISSION PR...  ...      Not Available\n",
              "1                10TH MILE GOVERNMENT PRIMARY SCHOOL  ...      Not Available\n",
              "2                  AAPGAZI GOVERNMENT PRIMARY SCHOOL  ...      Not Available\n",
              "3                AARUBOTEY GOVERNMENT PRIMARY SCHOOL  ...      Not Available\n",
              "4              AHO-YANGTAM GOVERNMENT PRIMARY SCHOOL  ...      Not Available\n",
              "\n",
              "[5 rows x 3 columns]"
            ]
          },
          "metadata": {},
          "execution_count": 14
        }
      ]
    },
    {
      "cell_type": "code",
      "metadata": {
        "id": "a49BF5JpyUwT"
      },
      "source": [
        "# Close the database connection\n",
        "conn.close()"
      ],
      "execution_count": null,
      "outputs": []
    },
    {
      "cell_type": "code",
      "metadata": {
        "id": "fRCEbeuR0SaH"
      },
      "source": [
        ""
      ],
      "execution_count": null,
      "outputs": []
    }
  ]
}